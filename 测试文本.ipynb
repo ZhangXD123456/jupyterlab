{
 "cells": [
  {
   "cell_type": "code",
   "execution_count": null,
   "id": "0b07ae56-b9f5-466d-b55a-d47022fff753",
   "metadata": {
    "tags": []
   },
   "outputs": [],
   "source": [
    "print(\"hello word\");"
   ]
  },
  {
   "cell_type": "code",
   "execution_count": null,
   "id": "05a03284-7b9c-4721-9808-e27e65f75eff",
   "metadata": {},
   "outputs": [],
   "source": []
  }
 ],
 "metadata": {
  "kernelspec": {
   "display_name": "Python 3 (ipykernel)",
   "language": "python",
   "name": "python3"
  },
  "language_info": {
   "codemirror_mode": {
    "name": "ipython",
    "version": 3
   },
   "file_extension": ".py",
   "mimetype": "text/x-python",
   "name": "python",
   "nbconvert_exporter": "python",
   "pygments_lexer": "ipython3",
   "version": "3.9.12"
  },
  "toc-autonumbering": false,
  "toc-showcode": true,
  "toc-showmarkdowntxt": true,
  "toc-showtags": false
 },
 "nbformat": 4,
 "nbformat_minor": 5
}
